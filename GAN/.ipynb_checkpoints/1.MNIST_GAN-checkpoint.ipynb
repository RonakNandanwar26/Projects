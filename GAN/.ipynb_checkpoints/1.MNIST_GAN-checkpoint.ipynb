{
 "cells": [
  {
   "cell_type": "code",
   "execution_count": 7,
   "id": "4e4fd41f",
   "metadata": {},
   "outputs": [],
   "source": [
    "from tensorflow.keras.models import Sequential,Model\n",
    "from tensorflow.keras.layers import Dense,BatchNormalization,LeakyReLU,Reshape,Flatten\n",
    "from tensorflow.keras.optimizers import Adam\n",
    "from tensorflow.keras.datasets import mnist\n",
    "import matplotlib.pyplot as plt\n",
    "import numpy as np"
   ]
  },
  {
   "cell_type": "code",
   "execution_count": 4,
   "id": "a2d977ac",
   "metadata": {},
   "outputs": [],
   "source": [
    "img_shape = (28,28,1)  # mnist have black and white images of size 28,28  "
   ]
  },
  {
   "cell_type": "code",
   "execution_count": 5,
   "id": "62ac502a",
   "metadata": {},
   "outputs": [],
   "source": [
    "## building Generator\n",
    "\n",
    "def generator():\n",
    "    \n",
    "    noise_shape = (100,) # using which generator will generate images\n",
    "    \n",
    "    model = Sequential()\n",
    "    \n",
    "    model.add(Dense(256,input_shape=noise_shape))\n",
    "    model.add(LeakyReLU(alpha=0.2))\n",
    "    model.add(BatchNormalization(momentum=0.8))\n",
    "    \n",
    "    model.add(Dense(512))\n",
    "    model.add(LeakyReLU(alpha=0.2))\n",
    "    model.add(BatchNormalization(momentum=0.8))\n",
    "    \n",
    "    model.add(Dense(1023))\n",
    "    model.add(LeakyReLU(alpha=0.2))\n",
    "    model.add(BatchNormalization(momentum=0.8))\n",
    "    \n",
    "    model.add(Dense(np.prod(img_shape),activation='tanh')) ## np.prod multiplies 28,28 and 1 -> 784\n",
    "    model.add(Reshape(img_shape))\n",
    "    \n",
    "    noise = Input(shape=noise_shape)\n",
    "    output = model(noise)\n",
    "    \n",
    "    return Model(noise,output)"
   ]
  },
  {
   "cell_type": "code",
   "execution_count": 6,
   "id": "0c93c4f4",
   "metadata": {},
   "outputs": [
    {
     "data": {
      "text/plain": [
       "784"
      ]
     },
     "execution_count": 6,
     "metadata": {},
     "output_type": "execute_result"
    }
   ],
   "source": [
    "### building Discriminator\n",
    "\n",
    "def discriminator():\n",
    "    \n",
    "    model = Sequential()\n",
    "    model.add(Flatten(input_shape = img_shape))\n",
    "    model.add(Dense(512))\n",
    "    model.add(LeakyReLU(alpha=0.2))\n",
    "    model.add(Dense(256))\n",
    "    model.add(LeakyReLU(alpha=0.2))\n",
    "    model.add(Dense(1,activation='sigmoid'))\n",
    "    \n",
    "    img = Input(shape=img_shape)\n",
    "    validity = model(img)   # its a guess of a discriminator that image is real or fake\n",
    "    \n",
    "    return Model(img,validity)"
   ]
  },
  {
   "cell_type": "code",
   "execution_count": null,
   "id": "255c1264",
   "metadata": {},
   "outputs": [],
   "source": [
    "## defining training function\n",
    "\n",
    "def train(epochs,batch_size=128,save_interval):\n",
    "    \n",
    "    (X_train,_),(_,_) = mnist.load_data()\n",
    "    \n",
    "    ## scaling images\n",
    "    X_train = X_train/255.\n",
    "    \n",
    "    X_train = np.expand_dims(X_train,axis=3)  # 28,28 -> 28,28,1\n",
    "    \n",
    "    half_batch = batch_size//2\n",
    "    \n",
    "    for epoch in range(epochs):\n",
    "        \n",
    "        # ---------------------------------\n",
    "        ## First Training the Discriminator\n",
    "        # ---------------------------------\n",
    "        \n",
    "        # getting random images from X_train\n",
    "        idx = np.random.normal(0,X_train.shape[0],half_batch) # getting random half_bach indexes from 0 to 60k\n",
    "        imgs = X_train[idx]\n",
    "        \n",
    "        \n",
    "        ## generating noise \n",
    "        noise = no.random(0,1,(half_batch,100))  # It will generate half_batch,100 values between 0 and 1\n",
    "        \n",
    "        ## generating fake images\n",
    "        gen_imgs = generator(noise)\n",
    "        \n",
    "        ## Training the discrimainator on real and fake images separately\n",
    "        d_loss_real = discriminator.train_on_batch(imgs,np.ones((half_batch,1))) # paasing real images and telling discriminator that it is real by passing ones with it\n",
    "        d_loss_fake = discriminator.train_on_batch(gen_imgs,np.ones((half_batch,1))) # passing generated fake images and passing ones with it fool geenrator by saying it is real\n",
    "        \n",
    "        # averaging loss\n",
    "        d_loss = np.add(d_loss_real + d_loss_fake) * 0.5\n",
    "        \n",
    "        \n",
    "        #----------------------\n",
    "        ## Training Generator\n",
    "        #----------------------\n",
    "        \n",
    "        noise = np.random(0,1,(batch_size,100))\n",
    "        \n",
    "        valid_y = np.array([1]*batch_size) # to fool the discriminator\n",
    "        \n",
    "        g_loss = combined.train_on_batch(noise,valid_y)\n",
    "        \n",
    "        print(f\"D loss {d_loss}, G loss {g_loss}\")\n",
    "        \n",
    "        if epoch % save_interval == 0:\n",
    "            save_imgs(epoch)\n",
    "        \n",
    "\n",
    "        \n",
    "def save_imgs(epoch):\n",
    "    r, c = 5, 5\n",
    "    noise = np.random.normal(0, 1, (r * c, 100))\n",
    "    gen_imgs = generator.predict(noise)\n",
    "\n",
    "    # Rescale images 0 - 1\n",
    "    gen_imgs = 0.5 * gen_imgs + 0.5\n",
    "\n",
    "    fig, axs = plt.subplots(r, c)\n",
    "    cnt = 0\n",
    "    for i in range(r):\n",
    "        for j in range(c):\n",
    "            axs[i,j].imshow(gen_imgs[cnt, :,:,0], cmap='gray')\n",
    "            axs[i,j].axis('off')\n",
    "            cnt += 1\n",
    "    fig.savefig(\"images/mnist_%d.png\" % epoch)\n",
    "    plt.close()\n",
    "#This function saves our images for us to view\n",
    "        "
   ]
  }
 ],
 "metadata": {
  "kernelspec": {
   "display_name": "Python 3 (ipykernel)",
   "language": "python",
   "name": "python3"
  },
  "language_info": {
   "codemirror_mode": {
    "name": "ipython",
    "version": 3
   },
   "file_extension": ".py",
   "mimetype": "text/x-python",
   "name": "python",
   "nbconvert_exporter": "python",
   "pygments_lexer": "ipython3",
   "version": "3.11.5"
  }
 },
 "nbformat": 4,
 "nbformat_minor": 5
}
