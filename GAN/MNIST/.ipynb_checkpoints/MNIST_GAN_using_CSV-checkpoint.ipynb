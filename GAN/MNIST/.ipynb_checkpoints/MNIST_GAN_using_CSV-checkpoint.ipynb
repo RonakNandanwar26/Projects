{
 "cells": [
  {
   "cell_type": "code",
   "execution_count": 85,
   "id": "8b5bd0bd",
   "metadata": {},
   "outputs": [],
   "source": [
    "import pandas as pd\n",
    "import numpy as np\n",
    "import matplotlib.pyplot as plt\n",
    "import os\n",
    "\n",
    "import tensorflow as tf\n",
    "from tensorflow.keras.layers import Dense,LeakyReLU, Flatten, UpSampling2D,Dropout,Input, Reshape, BatchNormalization\n",
    "from tensorflow.keras.models import Model, Sequential\n",
    "from tensorflow.keras.optimizers import Adam\n",
    "from tensorflow.keras.losses import BinaryCrossentropy\n",
    "from tensorflow.keras.callbacks import Callback\n",
    "from tensorflow.keras.preprocessing.image import array_to_img"
   ]
  },
  {
   "cell_type": "code",
   "execution_count": null,
   "id": "e6cbfd05",
   "metadata": {},
   "outputs": [],
   "source": []
  },
  {
   "cell_type": "code",
   "execution_count": 26,
   "id": "b12b088b",
   "metadata": {},
   "outputs": [],
   "source": [
    "data = pd.read_csv('digit-recognizer/train.csv')"
   ]
  },
  {
   "cell_type": "code",
   "execution_count": 27,
   "id": "416897ed",
   "metadata": {},
   "outputs": [
    {
     "data": {
      "text/html": [
       "<div>\n",
       "<style scoped>\n",
       "    .dataframe tbody tr th:only-of-type {\n",
       "        vertical-align: middle;\n",
       "    }\n",
       "\n",
       "    .dataframe tbody tr th {\n",
       "        vertical-align: top;\n",
       "    }\n",
       "\n",
       "    .dataframe thead th {\n",
       "        text-align: right;\n",
       "    }\n",
       "</style>\n",
       "<table border=\"1\" class=\"dataframe\">\n",
       "  <thead>\n",
       "    <tr style=\"text-align: right;\">\n",
       "      <th></th>\n",
       "      <th>label</th>\n",
       "      <th>pixel0</th>\n",
       "      <th>pixel1</th>\n",
       "      <th>pixel2</th>\n",
       "      <th>pixel3</th>\n",
       "      <th>pixel4</th>\n",
       "      <th>pixel5</th>\n",
       "      <th>pixel6</th>\n",
       "      <th>pixel7</th>\n",
       "      <th>pixel8</th>\n",
       "      <th>...</th>\n",
       "      <th>pixel774</th>\n",
       "      <th>pixel775</th>\n",
       "      <th>pixel776</th>\n",
       "      <th>pixel777</th>\n",
       "      <th>pixel778</th>\n",
       "      <th>pixel779</th>\n",
       "      <th>pixel780</th>\n",
       "      <th>pixel781</th>\n",
       "      <th>pixel782</th>\n",
       "      <th>pixel783</th>\n",
       "    </tr>\n",
       "  </thead>\n",
       "  <tbody>\n",
       "    <tr>\n",
       "      <th>0</th>\n",
       "      <td>1</td>\n",
       "      <td>0</td>\n",
       "      <td>0</td>\n",
       "      <td>0</td>\n",
       "      <td>0</td>\n",
       "      <td>0</td>\n",
       "      <td>0</td>\n",
       "      <td>0</td>\n",
       "      <td>0</td>\n",
       "      <td>0</td>\n",
       "      <td>...</td>\n",
       "      <td>0</td>\n",
       "      <td>0</td>\n",
       "      <td>0</td>\n",
       "      <td>0</td>\n",
       "      <td>0</td>\n",
       "      <td>0</td>\n",
       "      <td>0</td>\n",
       "      <td>0</td>\n",
       "      <td>0</td>\n",
       "      <td>0</td>\n",
       "    </tr>\n",
       "    <tr>\n",
       "      <th>1</th>\n",
       "      <td>0</td>\n",
       "      <td>0</td>\n",
       "      <td>0</td>\n",
       "      <td>0</td>\n",
       "      <td>0</td>\n",
       "      <td>0</td>\n",
       "      <td>0</td>\n",
       "      <td>0</td>\n",
       "      <td>0</td>\n",
       "      <td>0</td>\n",
       "      <td>...</td>\n",
       "      <td>0</td>\n",
       "      <td>0</td>\n",
       "      <td>0</td>\n",
       "      <td>0</td>\n",
       "      <td>0</td>\n",
       "      <td>0</td>\n",
       "      <td>0</td>\n",
       "      <td>0</td>\n",
       "      <td>0</td>\n",
       "      <td>0</td>\n",
       "    </tr>\n",
       "    <tr>\n",
       "      <th>2</th>\n",
       "      <td>1</td>\n",
       "      <td>0</td>\n",
       "      <td>0</td>\n",
       "      <td>0</td>\n",
       "      <td>0</td>\n",
       "      <td>0</td>\n",
       "      <td>0</td>\n",
       "      <td>0</td>\n",
       "      <td>0</td>\n",
       "      <td>0</td>\n",
       "      <td>...</td>\n",
       "      <td>0</td>\n",
       "      <td>0</td>\n",
       "      <td>0</td>\n",
       "      <td>0</td>\n",
       "      <td>0</td>\n",
       "      <td>0</td>\n",
       "      <td>0</td>\n",
       "      <td>0</td>\n",
       "      <td>0</td>\n",
       "      <td>0</td>\n",
       "    </tr>\n",
       "    <tr>\n",
       "      <th>3</th>\n",
       "      <td>4</td>\n",
       "      <td>0</td>\n",
       "      <td>0</td>\n",
       "      <td>0</td>\n",
       "      <td>0</td>\n",
       "      <td>0</td>\n",
       "      <td>0</td>\n",
       "      <td>0</td>\n",
       "      <td>0</td>\n",
       "      <td>0</td>\n",
       "      <td>...</td>\n",
       "      <td>0</td>\n",
       "      <td>0</td>\n",
       "      <td>0</td>\n",
       "      <td>0</td>\n",
       "      <td>0</td>\n",
       "      <td>0</td>\n",
       "      <td>0</td>\n",
       "      <td>0</td>\n",
       "      <td>0</td>\n",
       "      <td>0</td>\n",
       "    </tr>\n",
       "    <tr>\n",
       "      <th>4</th>\n",
       "      <td>0</td>\n",
       "      <td>0</td>\n",
       "      <td>0</td>\n",
       "      <td>0</td>\n",
       "      <td>0</td>\n",
       "      <td>0</td>\n",
       "      <td>0</td>\n",
       "      <td>0</td>\n",
       "      <td>0</td>\n",
       "      <td>0</td>\n",
       "      <td>...</td>\n",
       "      <td>0</td>\n",
       "      <td>0</td>\n",
       "      <td>0</td>\n",
       "      <td>0</td>\n",
       "      <td>0</td>\n",
       "      <td>0</td>\n",
       "      <td>0</td>\n",
       "      <td>0</td>\n",
       "      <td>0</td>\n",
       "      <td>0</td>\n",
       "    </tr>\n",
       "  </tbody>\n",
       "</table>\n",
       "<p>5 rows × 785 columns</p>\n",
       "</div>"
      ],
      "text/plain": [
       "   label  pixel0  pixel1  pixel2  pixel3  pixel4  pixel5  pixel6  pixel7  \\\n",
       "0      1       0       0       0       0       0       0       0       0   \n",
       "1      0       0       0       0       0       0       0       0       0   \n",
       "2      1       0       0       0       0       0       0       0       0   \n",
       "3      4       0       0       0       0       0       0       0       0   \n",
       "4      0       0       0       0       0       0       0       0       0   \n",
       "\n",
       "   pixel8  ...  pixel774  pixel775  pixel776  pixel777  pixel778  pixel779  \\\n",
       "0       0  ...         0         0         0         0         0         0   \n",
       "1       0  ...         0         0         0         0         0         0   \n",
       "2       0  ...         0         0         0         0         0         0   \n",
       "3       0  ...         0         0         0         0         0         0   \n",
       "4       0  ...         0         0         0         0         0         0   \n",
       "\n",
       "   pixel780  pixel781  pixel782  pixel783  \n",
       "0         0         0         0         0  \n",
       "1         0         0         0         0  \n",
       "2         0         0         0         0  \n",
       "3         0         0         0         0  \n",
       "4         0         0         0         0  \n",
       "\n",
       "[5 rows x 785 columns]"
      ]
     },
     "execution_count": 27,
     "metadata": {},
     "output_type": "execute_result"
    }
   ],
   "source": [
    "data.head()"
   ]
  },
  {
   "cell_type": "code",
   "execution_count": 28,
   "id": "4a13a352",
   "metadata": {},
   "outputs": [
    {
     "data": {
      "text/plain": [
       "(42000, 785)"
      ]
     },
     "execution_count": 28,
     "metadata": {},
     "output_type": "execute_result"
    }
   ],
   "source": [
    "data.shape"
   ]
  },
  {
   "cell_type": "code",
   "execution_count": 29,
   "id": "e50f757f",
   "metadata": {},
   "outputs": [
    {
     "data": {
      "text/plain": [
       "784"
      ]
     },
     "execution_count": 29,
     "metadata": {},
     "output_type": "execute_result"
    }
   ],
   "source": [
    "28*28"
   ]
  },
  {
   "cell_type": "code",
   "execution_count": 30,
   "id": "c249cfa5",
   "metadata": {},
   "outputs": [],
   "source": [
    "## getting X and y from data\n",
    "X = data.drop('label',axis=1)\n",
    "y = data.label"
   ]
  },
  {
   "cell_type": "code",
   "execution_count": 31,
   "id": "b0c3c9c4",
   "metadata": {},
   "outputs": [],
   "source": [
    "# converting data into 28,28 size array\n",
    "X = np.array(X).reshape((-1,28,28))"
   ]
  },
  {
   "cell_type": "code",
   "execution_count": 32,
   "id": "eca062f6",
   "metadata": {},
   "outputs": [
    {
     "data": {
      "text/plain": [
       "(42000, 28, 28)"
      ]
     },
     "execution_count": 32,
     "metadata": {},
     "output_type": "execute_result"
    }
   ],
   "source": [
    "X.shape # we have 42k 28,28 images of hand written digits"
   ]
  },
  {
   "cell_type": "code",
   "execution_count": 36,
   "id": "3a5a2dfa",
   "metadata": {},
   "outputs": [
    {
     "data": {
      "image/png": "[encoded data removed]",
      "text/plain": [
       "<Figure size 2000x2000 with 4 Axes>"
      ]
     },
     "metadata": {},
     "output_type": "display_data"
    }
   ],
   "source": [
    "## visualiozing images\n",
    "fig,ax = plt.subplots(ncols=4,figsize=(20,20))\n",
    "\n",
    "for i in range(4):\n",
    "    ax[i].imshow(X[i])\n",
    "    ax[i].title.set_text(y[i])"
   ]
  },
  {
   "cell_type": "markdown",
   "id": "004849b5",
   "metadata": {},
   "source": [
    "### Making Generator"
   ]
  },
  {
   "cell_type": "code",
   "execution_count": 39,
   "id": "c3f6ba3b",
   "metadata": {},
   "outputs": [],
   "source": [
    "def build_generator():\n",
    "    model = Sequential()\n",
    "    \n",
    "    model.add(Dense(256,input_shape=(128,)))\n",
    "    model.add(LeakyReLU(0.2))\n",
    "    model.add(BatchNormalization(0.8))\n",
    "    \n",
    "    model.add(Dense(512))\n",
    "    model.add(LeakyReLU(0.2))\n",
    "    model.add(BatchNormalization(0.8))\n",
    "    \n",
    "    model.add(Dense(1024))\n",
    "    model.add(LeakyReLU(0.2))\n",
    "    model.add(BatchNormalization(0.8))\n",
    "    \n",
    "    model.add(Dense(784))  # size of image\n",
    "    model.add(Reshape((28,28,1)))\n",
    "    \n",
    "    return model"
   ]
  },
  {
   "cell_type": "code",
   "execution_count": 40,
   "id": "55f13e3b",
   "metadata": {},
   "outputs": [],
   "source": [
    "generator = build_generator()"
   ]
  },
  {
   "cell_type": "code",
   "execution_count": 44,
   "id": "07d07159",
   "metadata": {},
   "outputs": [
    {
     "name": "stdout",
     "output_type": "stream",
     "text": [
      "1/1 [==============================] - 0s 293ms/step\n"
     ]
    }
   ],
   "source": [
    "gen_imgs = generator.predict(tf.random.normal((4,128,1)))"
   ]
  },
  {
   "cell_type": "code",
   "execution_count": 45,
   "id": "e550274a",
   "metadata": {},
   "outputs": [
    {
     "data": {
      "text/plain": [
       "array([[[[-0.30366215],\n",
       "         [ 0.02805032],\n",
       "         [-0.17360073],\n",
       "         ...,\n",
       "         [ 0.36467892],\n",
       "         [ 0.06787419],\n",
       "         [-0.28594035]],\n",
       "\n",
       "        [[ 0.04277729],\n",
       "         [ 0.01657414],\n",
       "         [ 0.308182  ],\n",
       "         ...,\n",
       "         [-0.3655801 ],\n",
       "         [-0.04424517],\n",
       "         [ 0.32872432]],\n",
       "\n",
       "        [[-0.12226205],\n",
       "         [-0.19474249],\n",
       "         [ 0.07548732],\n",
       "         ...,\n",
       "         [-0.1505176 ],\n",
       "         [ 0.05278876],\n",
       "         [-0.36434528]],\n",
       "\n",
       "        ...,\n",
       "\n",
       "        [[ 0.09268788],\n",
       "         [-0.96255314],\n",
       "         [-0.06803741],\n",
       "         ...,\n",
       "         [-0.4030874 ],\n",
       "         [ 0.03487138],\n",
       "         [ 0.27081674]],\n",
       "\n",
       "        [[-0.08813524],\n",
       "         [ 0.06828372],\n",
       "         [ 0.229377  ],\n",
       "         ...,\n",
       "         [-0.42377687],\n",
       "         [-0.12065962],\n",
       "         [ 0.16625015]],\n",
       "\n",
       "        [[-0.01564009],\n",
       "         [-0.08170369],\n",
       "         [-0.04655955],\n",
       "         ...,\n",
       "         [-0.22392781],\n",
       "         [-0.07732549],\n",
       "         [ 0.13975592]]],\n",
       "\n",
       "\n",
       "       [[[-0.2467585 ],\n",
       "         [-0.2277834 ],\n",
       "         [-0.06193054],\n",
       "         ...,\n",
       "         [ 0.34604925],\n",
       "         [-0.25241742],\n",
       "         [-0.03733002]],\n",
       "\n",
       "        [[ 0.16662262],\n",
       "         [-0.2950495 ],\n",
       "         [ 0.53034246],\n",
       "         ...,\n",
       "         [-0.54995203],\n",
       "         [-0.14857306],\n",
       "         [ 0.1606505 ]],\n",
       "\n",
       "        [[-0.22700927],\n",
       "         [-0.31226015],\n",
       "         [-0.15521862],\n",
       "         ...,\n",
       "         [ 0.02861844],\n",
       "         [-0.01383926],\n",
       "         [-0.28657258]],\n",
       "\n",
       "        ...,\n",
       "\n",
       "        [[-0.1441966 ],\n",
       "         [-0.58148146],\n",
       "         [-0.10487595],\n",
       "         ...,\n",
       "         [-0.14654426],\n",
       "         [-0.00820716],\n",
       "         [-0.14724386]],\n",
       "\n",
       "        [[ 0.2653882 ],\n",
       "         [ 0.57024765],\n",
       "         [-0.10715839],\n",
       "         ...,\n",
       "         [-0.596143  ],\n",
       "         [-0.17268911],\n",
       "         [ 0.00179301]],\n",
       "\n",
       "        [[ 0.18623652],\n",
       "         [-0.11400587],\n",
       "         [ 0.27380192],\n",
       "         ...,\n",
       "         [ 0.14800182],\n",
       "         [ 0.01805496],\n",
       "         [-0.22017848]]],\n",
       "\n",
       "\n",
       "       [[[-0.47479266],\n",
       "         [ 0.04751977],\n",
       "         [ 0.11458486],\n",
       "         ...,\n",
       "         [ 0.19032317],\n",
       "         [-0.08494328],\n",
       "         [-0.12876512]],\n",
       "\n",
       "        [[-0.11528303],\n",
       "         [-0.17613202],\n",
       "         [ 0.44198424],\n",
       "         ...,\n",
       "         [-0.04562792],\n",
       "         [-0.12908912],\n",
       "         [ 0.0861581 ]],\n",
       "\n",
       "        [[ 0.02004292],\n",
       "         [ 0.06337424],\n",
       "         [ 0.05968586],\n",
       "         ...,\n",
       "         [ 0.12515941],\n",
       "         [ 0.08728557],\n",
       "         [-0.4130002 ]],\n",
       "\n",
       "        ...,\n",
       "\n",
       "        [[-0.05466821],\n",
       "         [-0.49546838],\n",
       "         [ 0.3141794 ],\n",
       "         ...,\n",
       "         [-0.28658265],\n",
       "         [-0.29209352],\n",
       "         [ 0.28645805]],\n",
       "\n",
       "        [[ 0.21816723],\n",
       "         [ 0.19811034],\n",
       "         [ 0.07552537],\n",
       "         ...,\n",
       "         [-0.43578535],\n",
       "         [-0.207899  ],\n",
       "         [-0.14545152]],\n",
       "\n",
       "        [[ 0.0182677 ],\n",
       "         [ 0.04742841],\n",
       "         [-0.155548  ],\n",
       "         ...,\n",
       "         [ 0.3487673 ],\n",
       "         [-0.19766036],\n",
       "         [-0.06907676]]],\n",
       "\n",
       "\n",
       "       [[[-0.15357462],\n",
       "         [-0.13363162],\n",
       "         [-0.21246842],\n",
       "         ...,\n",
       "         [ 0.13617772],\n",
       "         [ 0.04795152],\n",
       "         [-0.27855363]],\n",
       "\n",
       "        [[ 0.3100046 ],\n",
       "         [-0.2435465 ],\n",
       "         [ 0.27287194],\n",
       "         ...,\n",
       "         [-0.246032  ],\n",
       "         [-0.15882379],\n",
       "         [ 0.06016707]],\n",
       "\n",
       "        [[-0.25170955],\n",
       "         [-0.32064685],\n",
       "         [-0.13439228],\n",
       "         ...,\n",
       "         [ 0.27268755],\n",
       "         [ 0.31488737],\n",
       "         [-0.31176507]],\n",
       "\n",
       "        ...,\n",
       "\n",
       "        [[-0.11209025],\n",
       "         [-0.64977545],\n",
       "         [ 0.23604207],\n",
       "         ...,\n",
       "         [-0.25561452],\n",
       "         [-0.10929536],\n",
       "         [ 0.28198278]],\n",
       "\n",
       "        [[ 0.20212135],\n",
       "         [ 0.10213295],\n",
       "         [ 0.11658117],\n",
       "         ...,\n",
       "         [-0.5231353 ],\n",
       "         [-0.42493504],\n",
       "         [ 0.22437435]],\n",
       "\n",
       "        [[ 0.20205423],\n",
       "         [-0.0530071 ],\n",
       "         [ 0.04487135],\n",
       "         ...,\n",
       "         [-0.08186482],\n",
       "         [-0.1860114 ],\n",
       "         [-0.18956797]]]], dtype=float32)"
      ]
     },
     "execution_count": 45,
     "metadata": {},
     "output_type": "execute_result"
    }
   ],
   "source": [
    "gen_imgs"
   ]
  },
  {
   "cell_type": "code",
   "execution_count": 46,
   "id": "4cbda92b",
   "metadata": {},
   "outputs": [
    {
     "data": {
      "image/png": "[encoded data removed]",
      "text/plain": [
       "<Figure size 2000x2000 with 4 Axes>"
      ]
     },
     "metadata": {},
     "output_type": "display_data"
    }
   ],
   "source": [
    "## visualiozing generated images\n",
    "fig,ax = plt.subplots(ncols=4,figsize=(20,20))\n",
    "\n",
    "for i in range(4):\n",
    "    ax[i].imshow(gen_imgs[i])\n",
    "    ax[i].title.set_text(i)"
   ]
  },
  {
   "cell_type": "markdown",
   "id": "064e4c81",
   "metadata": {},
   "source": [
    "### Building Discriminator"
   ]
  },
  {
   "cell_type": "code",
   "execution_count": 50,
   "id": "d14df34c",
   "metadata": {},
   "outputs": [],
   "source": [
    "def build_discriminator():\n",
    "    \n",
    "    model = Sequential()\n",
    "    model.add(Flatten(input_shape=(28,28,1)))\n",
    "    model.add(Dense(256))\n",
    "    model.add(LeakyReLU(0.2))\n",
    "    model.add(Dropout(0.4))\n",
    "    \n",
    "    model.add(Dense(512))\n",
    "    model.add(LeakyReLU(0.2))\n",
    "    model.add(Dropout(0.4))\n",
    "    \n",
    "    model.add(Dense(256))\n",
    "    model.add(LeakyReLU(0.2))\n",
    "    model.add(Dropout(0.4))\n",
    "              \n",
    "    model.add(Dense(64))\n",
    "    model.add(LeakyReLU(0.2))\n",
    "              \n",
    "    model.add(Dense(1,activation='sigmoid'))\n",
    "    \n",
    "    return model"
   ]
  },
  {
   "cell_type": "code",
   "execution_count": 51,
   "id": "4f6c56f5",
   "metadata": {},
   "outputs": [],
   "source": [
    "discriminator = build_discriminator()"
   ]
  },
  {
   "cell_type": "code",
   "execution_count": 52,
   "id": "294e73ec",
   "metadata": {},
   "outputs": [
    {
     "name": "stdout",
     "output_type": "stream",
     "text": [
      "Model: \"sequential_1\"\n",
      "_________________________________________________________________\n",
      " Layer (type)                Output Shape              Param #   \n",
      "=================================================================\n",
      " flatten (Flatten)           (None, 784)               0         \n",
      "                                                                 \n",
      " dense_4 (Dense)             (None, 256)               200960    \n",
      "                                                                 \n",
      " leaky_re_lu_3 (LeakyReLU)   (None, 256)               0         \n",
      "                                                                 \n",
      " dropout_3 (Dropout)         (None, 256)               0         \n",
      "                                                                 \n",
      " dense_5 (Dense)             (None, 512)               131584    \n",
      "                                                                 \n",
      " leaky_re_lu_4 (LeakyReLU)   (None, 512)               0         \n",
      "                                                                 \n",
      " dropout_4 (Dropout)         (None, 512)               0         \n",
      "                                                                 \n",
      " dense_6 (Dense)             (None, 256)               131328    \n",
      "                                                                 \n",
      " leaky_re_lu_5 (LeakyReLU)   (None, 256)               0         \n",
      "                                                                 \n",
      " dropout_5 (Dropout)         (None, 256)               0         \n",
      "                                                                 \n",
      " dense_7 (Dense)             (None, 64)                16448     \n",
      "                                                                 \n",
      " leaky_re_lu_6 (LeakyReLU)   (None, 64)                0         \n",
      "                                                                 \n",
      " dense_8 (Dense)             (None, 1)                 65        \n",
      "                                                                 \n",
      "=================================================================\n",
      "Total params: 480385 (1.83 MB)\n",
      "Trainable params: 480385 (1.83 MB)\n",
      "Non-trainable params: 0 (0.00 Byte)\n",
      "_________________________________________________________________\n"
     ]
    }
   ],
   "source": [
    "discriminator.summary()"
   ]
  },
  {
   "cell_type": "code",
   "execution_count": 59,
   "id": "37e17d1e",
   "metadata": {},
   "outputs": [
    {
     "name": "stdout",
     "output_type": "stream",
     "text": [
      "1/1 [==============================] - 0s 160ms/step\n"
     ]
    },
    {
     "data": {
      "text/plain": [
       "array([[0.51769525],\n",
       "       [0.5230477 ],\n",
       "       [0.5199979 ],\n",
       "       [0.48910314]], dtype=float32)"
      ]
     },
     "execution_count": 59,
     "metadata": {},
     "output_type": "execute_result"
    }
   ],
   "source": [
    "discriminator.predict(gen_imgs)"
   ]
  },
  {
   "cell_type": "code",
   "execution_count": 58,
   "id": "207bac0b",
   "metadata": {},
   "outputs": [
    {
     "data": {
      "text/plain": [
       "(28, 28, 1)"
      ]
     },
     "execution_count": 58,
     "metadata": {},
     "output_type": "execute_result"
    }
   ],
   "source": [
    "gen_imgs[0].shape"
   ]
  },
  {
   "cell_type": "markdown",
   "id": "bf183dae",
   "metadata": {},
   "source": [
    "### Custom Training Loop"
   ]
  },
  {
   "cell_type": "code",
   "execution_count": 61,
   "id": "40b4095c",
   "metadata": {},
   "outputs": [],
   "source": [
    "g_opt = Adam(0.0001)\n",
    "d_opt = Adam(0.0001)\n",
    "g_loss = BinaryCrossentropy()\n",
    "d_loss = BinaryCrossentropy()"
   ]
  },
  {
   "cell_type": "code",
   "execution_count": 75,
   "id": "97ff70c9",
   "metadata": {},
   "outputs": [],
   "source": [
    "class Mnist(Model):\n",
    "    \n",
    "    def __init__(self,generator,discriminator,*args,**kwargs):\n",
    "        super().__init__(*args,**kwargs)\n",
    "        \n",
    "        self.generator = generator\n",
    "        self.discriminator = discriminator\n",
    "        \n",
    "    \n",
    "    def compile(self,g_opt,d_opt,g_loss,d_loss,*args,**kwargs):\n",
    "        super().compile(*args,**kwargs)\n",
    "        \n",
    "        self.g_opt = g_opt\n",
    "        self.d_opt = d_opt\n",
    "        self.g_loss = g_loss\n",
    "        self.d_loss = d_loss\n",
    "        \n",
    "    \n",
    "    def train_step(self,batch):\n",
    "        real_images = batch\n",
    "        \n",
    "        fake_images = self.generator(tf.random.normal((128,128,1)),training=False)\n",
    "        \n",
    "        ## training discriminator\n",
    "        with tf.GradientTape() as d_tape:\n",
    "            \n",
    "            y_hat_real = self.discriminator(real_images,training=True)\n",
    "            y_hat_fake = self.discriminator(fake_images,training=True)\n",
    "            y_hat_real_fake = tf.concat([y_hat_real,y_hat_fake],axis=0)\n",
    "\n",
    "            ## creating labels for real and fake\n",
    "            y_real_fake = tf.concat([tf.zeros_like(y_hat_real),tf.ones_like(y_hat_fake)],axis=0)\n",
    "\n",
    "            ## adding noise for divesified images\n",
    "            noise_real = 0.15 * tf.random.uniform(tf.shape(y_hat_real))\n",
    "            noise_fake = -0.15 * tf.random.uniform(tf.shape(y_hat_fake))\n",
    "            y_hat_real_fake += tf.concat([noise_real,noise_fake],axis=0)\n",
    "            \n",
    "            # calculating discriminator loss\n",
    "            total_d_loss = self.d_loss(y_real_fake,y_hat_real_fake)\n",
    "            \n",
    "        # back propogation\n",
    "        dgrad = d_tape.gradient(total_d_loss,self.discriminator.trainable_variables)\n",
    "        self.d_opt.apply_gradients(zip(dgrad,self.discriminator.trainable_variables))\n",
    "        \n",
    "        \n",
    "        ## training generator\n",
    "        with tf.GradientTape() as g_tape:\n",
    "            \n",
    "            noise = tf.random.normal((128,128,1))\n",
    "            generated_imgs = self.generator(noise,training=True)\n",
    "            \n",
    "            # predicting generated images that it is Real or Fake while disabling discriminator training\n",
    "            predicted_labels = self.discriminator(generated_imgs,training=False)\n",
    "            \n",
    "            total_g_loss = self.g_loss(tf.zeros_like(predicted_labels),predicted_labels)\n",
    "            \n",
    "        ## applying Backpropogation\n",
    "        g_grad = g_tape.gradient(total_g_loss,self.generator.trainable_variables)\n",
    "        self.g_opt.apply_gradients(zip(g_grad,self.generator.trainable_variables))\n",
    "        \n",
    "        return {\"d_loss\":total_d_loss,\"g_loss\":total_g_loss}"
   ]
  },
  {
   "cell_type": "code",
   "execution_count": 81,
   "id": "f8bd311f",
   "metadata": {},
   "outputs": [],
   "source": [
    "## custom callback for checking model performance\n",
    "class MonitorModel(Callback):\n",
    "    def __init__(self,num_images=3,latent_dim=128,frequency=10):\n",
    "        self.num_images = num_images\n",
    "        self.latent_dim = latent_dim\n",
    "        self.frequency = frequency\n",
    "        \n",
    "    def on_epoch_end(self,epoch,logs=None):\n",
    "        if epoch % self.frequency == 0:\n",
    "            latent_vector = tf.random.normal((self.num_images,self.latent_dim))\n",
    "            imgs = self.model.generator(latent_vector)\n",
    "            imgs *= 255\n",
    "            imgs.numpy()\n",
    "            \n",
    "            for i in range(self.num_images):\n",
    "                img = array_to_img(imgs[i])\n",
    "                img.save(os.path.join('images',f\"gen_img_{epoch}_{i}.png\"))"
   ]
  },
  {
   "cell_type": "code",
   "execution_count": 82,
   "id": "69e86e3a",
   "metadata": {},
   "outputs": [],
   "source": [
    "# creating instance of Mnist\n",
    "mnist = Mnist(generator,discriminator)"
   ]
  },
  {
   "cell_type": "code",
   "execution_count": 83,
   "id": "6dc8eaa7",
   "metadata": {},
   "outputs": [],
   "source": [
    "mnist.compile(g_opt,d_opt,g_loss,d_loss)"
   ]
  },
  {
   "cell_type": "code",
   "execution_count": 86,
   "id": "d6498bde",
   "metadata": {},
   "outputs": [
    {
     "name": "stdout",
     "output_type": "stream",
     "text": [
      "Epoch 1/20\n",
      "329/329 [==============================] - 30s 92ms/step - d_loss: 7.6286 - g_loss: 0.0033\n",
      "Epoch 2/20\n",
      "329/329 [==============================] - 34s 103ms/step - d_loss: 7.6286 - g_loss: 0.0068\n",
      "Epoch 3/20\n",
      "329/329 [==============================] - 38s 115ms/step - d_loss: 7.6286 - g_loss: 0.0041\n",
      "Epoch 4/20\n",
      "329/329 [==============================] - 37s 113ms/step - d_loss: 7.6284 - g_loss: 0.0028\n",
      "Epoch 5/20\n",
      "329/329 [==============================] - 32s 98ms/step - d_loss: 7.6286 - g_loss: 0.0013\n",
      "Epoch 6/20\n",
      "329/329 [==============================] - 30s 92ms/step - d_loss: 7.6288 - g_loss: 8.5376e-04\n",
      "Epoch 7/20\n",
      "329/329 [==============================] - 31s 93ms/step - d_loss: 7.6288 - g_loss: 5.1156e-04\n",
      "Epoch 8/20\n",
      "329/329 [==============================] - 30s 92ms/step - d_loss: 7.6282 - g_loss: 3.6120e-04\n",
      "Epoch 9/20\n",
      "329/329 [==============================] - 30s 92ms/step - d_loss: 7.6283 - g_loss: 4.1359e-04\n",
      "Epoch 10/20\n",
      "329/329 [==============================] - 34s 105ms/step - d_loss: 7.6284 - g_loss: 5.4646e-04\n",
      "Epoch 11/20\n",
      "329/329 [==============================] - 32s 96ms/step - d_loss: 7.6282 - g_loss: 2.6011e-04\n",
      "Epoch 12/20\n",
      "329/329 [==============================] - 32s 96ms/step - d_loss: 7.6285 - g_loss: 1.8785e-04\n",
      "Epoch 13/20\n",
      "329/329 [==============================] - 30s 91ms/step - d_loss: 7.6282 - g_loss: 1.1461e-04\n",
      "Epoch 14/20\n",
      "329/329 [==============================] - 37s 112ms/step - d_loss: 7.6285 - g_loss: 8.5225e-05\n",
      "Epoch 15/20\n",
      "329/329 [==============================] - 32s 97ms/step - d_loss: 7.6286 - g_loss: 7.6735e-05\n",
      "Epoch 16/20\n",
      "329/329 [==============================] - 33s 101ms/step - d_loss: 7.6285 - g_loss: 4.7733e-05\n",
      "Epoch 17/20\n",
      "329/329 [==============================] - 31s 94ms/step - d_loss: 7.6285 - g_loss: 3.4977e-05\n",
      "Epoch 18/20\n",
      "329/329 [==============================] - 30s 91ms/step - d_loss: 7.6286 - g_loss: 9.3392e-05\n",
      "Epoch 19/20\n",
      "329/329 [==============================] - 30s 92ms/step - d_loss: 7.6286 - g_loss: 1.3325e-04\n",
      "Epoch 20/20\n",
      "329/329 [==============================] - 30s 91ms/step - d_loss: 7.6284 - g_loss: 5.7826e-05\n"
     ]
    },
    {
     "data": {
      "text/plain": [
       "<keras.src.callbacks.History at 0x1715c0e04c0>"
      ]
     },
     "execution_count": 86,
     "metadata": {},
     "output_type": "execute_result"
    }
   ],
   "source": [
    "mnist.fit(X,batch_size=128,epochs=20,callbacks=[MonitorModel()])"
   ]
  },
  {
   "cell_type": "code",
   "execution_count": 73,
   "id": "122d1a9e",
   "metadata": {},
   "outputs": [
    {
     "data": {
      "text/plain": [
       "(42000, 28, 28)"
      ]
     },
     "execution_count": 73,
     "metadata": {},
     "output_type": "execute_result"
    }
   ],
   "source": [
    "X.shape"
   ]
  },
  {
   "cell_type": "code",
   "execution_count": null,
   "id": "c266951d",
   "metadata": {},
   "outputs": [],
   "source": []
  }
 ],
 "metadata": {
  "kernelspec": {
   "display_name": "Python 3 (ipykernel)",
   "language": "python",
   "name": "python3"
  },
  "language_info": {
   "codemirror_mode": {
    "name": "ipython",
    "version": 3
   },
   "file_extension": ".py",
   "mimetype": "text/x-python",
   "name": "python",
   "nbconvert_exporter": "python",
   "pygments_lexer": "ipython3",
   "version": "3.10.0"
  }
 },
 "nbformat": 4,
 "nbformat_minor": 5
}
