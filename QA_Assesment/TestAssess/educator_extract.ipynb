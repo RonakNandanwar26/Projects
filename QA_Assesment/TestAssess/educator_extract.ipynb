{
 "cells": [
  {
   "cell_type": "code",
   "execution_count": 25,
   "metadata": {},
   "outputs": [
    {
     "name": "stdout",
     "output_type": "stream",
     "text": [
      "Requirement already satisfied: pypdf2 in c:\\users\\albiorix technology\\desktop\\ronak\\projects\\qa_assesment\\env\\lib\\site-packages (3.0.1)\n",
      "Requirement already satisfied: typing_extensions>=3.10.0.0 in c:\\users\\albiorix technology\\desktop\\ronak\\projects\\qa_assesment\\env\\lib\\site-packages (from pypdf2) (4.8.0)\n",
      "Note: you may need to restart the kernel to use updated packages.\n"
     ]
    }
   ],
   "source": [
    "%pip install pypdf2"
   ]
  },
  {
   "cell_type": "code",
   "execution_count": 26,
   "metadata": {},
   "outputs": [],
   "source": [
    "from PyPDF2 import PdfReader\n",
    "import re"
   ]
  },
  {
   "cell_type": "code",
   "execution_count": 27,
   "metadata": {},
   "outputs": [],
   "source": [
    "def fetch_substring(input_string, start_char, end_char):\n",
    "    start_index = input_string.find(start_char)\n",
    "    if not end_char == -1:\n",
    "        end_index = input_string.find(end_char, start_index + 1)\n",
    "    else:\n",
    "        end_index = -1\n",
    "    \n",
    "    if start_index != -1 and end_index != -1:\n",
    "        result_substring = input_string[start_index + len(start_char):end_index]\n",
    "        return result_substring.strip()  # Remove leading and trailing whitespaces\n",
    "    elif start_index != -1 and end_index == -1:\n",
    "        result_substring = input_string[start_index + len(start_char):]\n",
    "        return result_substring.strip()\n",
    "    else:\n",
    "        return None"
   ]
  },
  {
   "cell_type": "code",
   "execution_count": 28,
   "metadata": {},
   "outputs": [
    {
     "name": "stdout",
     "output_type": "stream",
     "text": [
      "0.6189932823181152\n"
     ]
    }
   ],
   "source": [
    "import time\n",
    "a = time.time()\n",
    "with open(r'C:\\Users\\Albiorix Technology\\Desktop\\Ronak\\Projects\\QA_Assesment\\educator.pdf','rb') as pdf:\n",
    "    reader = PdfReader(pdf)\n",
    "    results = []\n",
    "    for i in range(len(reader.pages)):\n",
    "        page = reader.pages[i]\n",
    "        text = page.extract_text()\n",
    "        results.append(text)\n",
    "    result = ' '.join(results)\n",
    "    result = result.replace('\\n', ' ')\n",
    "\n",
    "QA = re.split(r'Question \\d+\\.\\d+', result)[1:]\n",
    "sections = re.findall(r'Question \\d+\\.\\d+', result)\n",
    "\n",
    "final_QA = []\n",
    "for i in range(len(QA)):\n",
    "    qa_dict = {}\n",
    "    qa_dict['section'] = sections[i].split()[1].split('.')[0]\n",
    "    qa_dict['question_no'] = sections[i].split()[1].split('.')[1]\n",
    "    qa_dict['question'] = fetch_substring(QA[i],'Question:','(')\n",
    "    qa_dict['marks'] = fetch_substring(QA[i],'(',')')\n",
    "    qa_dict['actual_answer'] = fetch_substring(QA[i],'Instructions to marker:',-1)\n",
    "    final_QA.append(qa_dict)\n",
    "\n",
    "b = time.time()\n",
    "print(b-a)  "
   ]
  },
  {
   "cell_type": "code",
   "execution_count": 29,
   "metadata": {},
   "outputs": [
    {
     "data": {
      "text/plain": [
       "[{'section': '1',\n",
       "  'question_no': '1',\n",
       "  'question': 'Define the term \"cell.\"',\n",
       "  'marks': '1 mark',\n",
       "  'actual_answer': 'Accurate Definition (1 mark): Award the full mark if the student provides a correct and concise definition of a cell. An ideal answer should include the notion that a cell is the basic unit of life, forming the structural and functional unit of all living organisms. It may also be acceptable if a student describes it as the smallest unit that can perform all life processes. Additional details, such as mentioning that cells are enclosed by a membrane and contain cytoplasm and organelles, can enhance the answer but are not necessary for the single mark.'},\n",
       " {'section': '1',\n",
       "  'question_no': '2',\n",
       "  'question': 'List the main differences between plant cells and animal cells.',\n",
       "  'marks': '3 marks',\n",
       "  'actual_answer': 'Presence of Cell Wall (1 mark): Award 1 mark for correctly stating that plant cells have a cell wall, while animal cells do not. This point correctly identifies one of the fundamental structural differences between plant and animal cells. Presence of Chloroplasts (1 mark): Award 1 mark for the correct identification that plant cells contain chloroplasts, which are absent in animal cells. This point highlights a key difference related to the function of photosynthesis exclusive to plant cells. Presence of Lysosomes (1 mark): Award 1 mark for noting that animal cells often have lysosomes, which are rarely found in plant cells. This is a valid distinction, although it is more nuanced than the first two points, as lysosomes can occasionally be found in plant cells, but they are much more common and prominent in animal cells.'},\n",
       " {'section': '2',\n",
       "  'question_no': '1',\n",
       "  'question': 'What is the primary function of the mitochondria?',\n",
       "  'marks': '1 mark',\n",
       "  'actual_answer': 'Correct Identification of Function (1 mark): Award the full mark if the student accurately states that the primary function of mitochondria is to produce ATP (adenosine triphosphate) through cellular respiration, providing energy for the cell. This answer correctly identifies the key role of mitochondria as the powerhouse of the cell, generating the energy currency (ATP) essential for various cellular processes.'},\n",
       " {'section': '2',\n",
       "  'question_no': '2',\n",
       "  'question': 'Briefly explain the process of osmosis.',\n",
       "  'marks': '2 marks',\n",
       "  'actual_answer': 'Nature of Movement (1 mark): Award 1 mark for correctly identifying osmosis as the passive movement of water molecules. This point is crucial as it highlights the passive (i.e., not requiring energy) nature of osmosis and correctly identifies water as the moving molecule. Direction of Movement and Conditions (1 mark): Award 1 mark for accurately stating that this movement is from a region of lower solute concentration to a region of higher solute concentration, and that it occurs across a selectively permeable membrane. This part of the answer is essential as it describes the direction of osmosis in relation to solute concentration and notes the requirement of a selectively permeable membrane for osmosis to occur.'},\n",
       " {'section': '3',\n",
       "  'question_no': '1',\n",
       "  'question': 'Name three types of blood cells in humans and provide one function for each.',\n",
       "  'marks': '3 marks',\n",
       "  'actual_answer': \"Red Blood Cells (Erythrocytes) - Transport Oxygen (1 mark): Award 1 mark for correctly naming 'Red Blood Cells' or 'Erythrocytes' and accurately stating their function as transporting oxygen. This is a fundamental aspect of red blood cells and a key function in the circulatory system. White Blood Cells (Leukocytes) - Defend Against Pathogens (1 mark): Award 1 mark for correctly naming 'White Blood Cells' or 'Leukocytes' and identifying their role in defending the body against pathogens. This correctly highlights the immune function of white blood cells. Platelets (Thrombocytes) - Aid in Blood Clotting (1 mark): Award 1 mark for the correct identification of 'Platelets' or 'Thrombocytes' and stating their function in aiding blood clotting. This answer correctly associates platelets with their critical role in the clotting process, which is essential for preventing excessive bleeding.\"},\n",
       " {'section': '3',\n",
       "  'question_no': '2',\n",
       "  'question': 'Which organelle is responsible for photosynthesis in plants?',\n",
       "  'marks': '1 mark',\n",
       "  'actual_answer': \"Correct Identification of Organelle (1 mark): Award the full mark if the student correctly identifies 'Chloroplasts' as the organelle responsible for photosynthesis in plants. This answer accurately recognizes the specific role of chloroplasts in the process of photosynthesis, which is a key function in plant cells.\"},\n",
       " {'section': '4',\n",
       "  'question_no': '1',\n",
       "  'question': 'Define the term \"enzyme\" and explain its importance in biological reactions.',\n",
       "  'marks': '2 marks',\n",
       "  'actual_answer': 'Definition of Enzyme (1 mark): Award 1 mark for a correct definition of an enzyme as a biological catalyst that speeds up chemical reactions in living organisms without being consumed in the reaction. This part of the answer correctly captures the nature of enzymes as catalysts and their role in facilitating reactions without being used up. Explanation of Importance (1 mark): Award 1 mark for explaining the importance of enzymes, specifically stating that they allow metabolic processes to occur at rates fast enough to sustain life. This aspect of the answer correctly identifies the critical role enzymes play in ensuring the efficiency and viability of biological processes.'},\n",
       " {'section': '4',\n",
       "  'question_no': '2',\n",
       "  'question': 'What is DNA replication and why is it important?',\n",
       "  'marks': '2 marks',\n",
       "  'actual_answer': 'Definition of DNA Replication (1 mark): Award 1 mark for correctly defining DNA replication as the process by which DNA makes a copy of itself during cell division. This part of the answer accurately captures the essence of DNA replication, emphasizing its role in the duplication of genetic material. Explanation of Importance (1 mark): Award 1 mark for explaining the importance of DNA replication, specifically stating that it ensures each new cell has the same genetic information as the parent cell. This explanation highlights the critical role of DNA replication in maintaining genetic continuity and stability across cell generations, which is fundamental to growth, development, and inheritance.'},\n",
       " {'section': '4',\n",
       "  'question_no': '3',\n",
       "  'question': 'Name the four nitrogenous bases in DNA.',\n",
       "  'marks': '2 marks',\n",
       "  'actual_answer': 'Correct Naming of All Four Bases (2 marks): Award full 2 marks if the student correctly names all four nitrogenous bases in DNA: Adenine (A), Thymine (T), Cytosine (C), and Guanine (G). Each base should be correctly identified for the full marks.'},\n",
       " {'section': '4',\n",
       "  'question_no': '4',\n",
       "  'question': 'Explain the process of transcription.',\n",
       "  'marks': '2 marks',\n",
       "  'actual_answer': 'Basic Description of Transcription (1 mark): Award 1 mark for accurately describing transcription as the process by which a specific segment of DNA is used as a template to synthesize a complementary RNA molecule. This part of the answer correctly identifies the fundamental nature of transcription, emphasizing the role of DNA as a template for RNA synthesis. Role of RNA Polymerase and Complementary Base Pairing (1 mark): Award 1 mark for explaining the role of RNA polymerase in reading the DNA template and building the RNA molecule with complementary bases. This explanation provides key details about the mechanism of transcription, including the function of RNA polymerase and the base pairing rules that guide the synthesis of the RNA molecule.'}]"
      ]
     },
     "execution_count": 29,
     "metadata": {},
     "output_type": "execute_result"
    }
   ],
   "source": [
    "final_QA"
   ]
  },
  {
   "cell_type": "markdown",
   "metadata": {},
   "source": [
    "#### PDF structure Evaluation for Educator"
   ]
  },
  {
   "cell_type": "code",
   "execution_count": 30,
   "metadata": {},
   "outputs": [],
   "source": [
    "with open(r'C:\\Users\\Albiorix Technology\\Desktop\\Ronak\\Projects\\QA_Assesment\\educator.pdf','rb') as pdf:\n",
    "    reader = PdfReader(pdf)\n",
    "    results = []\n",
    "    for i in range(len(reader.pages)):\n",
    "        page = reader.pages[i]\n",
    "        text = page.extract_text()\n",
    "        results.append(text)\n",
    "    result = ' '.join(results)\n",
    "    result = result.replace('\\n', ' ')\n",
    "\n",
    "QA = re.split(r'Question \\d+\\.\\d+', result)[1:]\n",
    "sections = re.findall(r'Question \\d+\\.\\d+', result)\n",
    "\n",
    "for i in range(len(QA)):\n",
    "    QA[i] = sections[i] +QA[i]"
   ]
  },
  {
   "cell_type": "code",
   "execution_count": 31,
   "metadata": {},
   "outputs": [
    {
     "data": {
      "text/plain": [
       "['Question 1.1 Question: Define the term \"cell.\" (1 mark) Instructions to marker: Accurate Definition (1 mark): Award the full mark if the student provides a correct and concise definition of a cell. An ideal answer should include the notion that a cell is the basic unit of life, forming the structural and functional unit of all living organisms. It may also be acceptable if a student describes it as the smallest unit that can perform all life processes. Additional details, such as mentioning that cells are enclosed by a membrane and contain cytoplasm and organelles, can enhance the answer but are not necessary for the single mark. ',\n",
       " 'Question 1.2 Question: List the main differences between plant cells and animal cells. (3 marks) Instructions to marker: Presence of Cell Wall (1 mark): Award 1 mark for correctly stating that plant cells have a cell wall, while animal cells do not. This point correctly identifies one of the fundamental structural differences between plant and animal cells. Presence of Chloroplasts (1 mark): Award 1 mark for the correct identification that plant cells contain chloroplasts, which are absent in animal cells. This point highlights a key difference related to the function of photosynthesis exclusive to plant cells. Presence of Lysosomes (1 mark): Award 1 mark for noting that animal cells often have lysosomes, which are rarely found in plant cells. This is a valid distinction, although it is more nuanced than the first two points, as lysosomes can occasionally be found in plant cells, but they are much more common and prominent in animal cells. ',\n",
       " 'Question 2.1 Question: What is the primary function of the mitochondria? (1 mark) Instructions to marker: Correct Identification of Function (1 mark): Award the full mark if the student accurately states that the primary function of mitochondria is to produce ATP (adenosine triphosphate) through cellular respiration, providing energy for the cell. This answer correctly identifies the key role of mitochondria as the powerhouse of the cell, generating the energy currency (ATP) essential for various cellular processes. ',\n",
       " 'Question 2.2 Question: Briefly explain the process of osmosis. (2 marks) Instructions to marker: Nature of Movement (1 mark): Award 1 mark for correctly identifying osmosis as the passive movement of water molecules. This point is crucial as it highlights the passive (i.e., not requiring energy) nature of osmosis and correctly identifies water as the moving molecule. Direction of Movement and Conditions (1 mark): Award 1 mark for accurately stating that this movement is from a region of lower solute concentration to a region of higher solute concentration, and that it occurs across a selectively permeable membrane. This part of the answer is essential as it describes the direction of osmosis in relation to solute concentration and notes the requirement of a selectively permeable membrane for osmosis to occur. ',\n",
       " \"Question 3.1 Question: Name three types of blood cells in humans and provide one function for each. (3 marks) Instructions to marker: Red Blood Cells (Erythrocytes) - Transport Oxygen (1 mark): Award 1 mark for correctly naming 'Red Blood Cells' or 'Erythrocytes' and accurately stating their function as transporting oxygen. This is a fundamental aspect of red blood cells and a key function in the circulatory system. White Blood Cells (Leukocytes) - Defend Against Pathogens (1 mark): Award 1 mark for correctly naming 'White Blood Cells' or 'Leukocytes' and identifying their role in defending the body against pathogens. This correctly highlights the immune function of white blood cells. Platelets (Thrombocytes) - Aid in Blood Clotting (1 mark): Award 1 mark for the correct identification of 'Platelets' or 'Thrombocytes' and stating their function in aiding blood clotting. This answer correctly associates platelets with their critical role in the clotting process, which is essential for preventing excessive bleeding. \",\n",
       " \"Question 3.2 Question: Which organelle is responsible for photosynthesis in plants? (1 mark) Instructions to marker: Correct Identification of Organelle (1 mark): Award the full mark if the student correctly identifies 'Chloroplasts' as the organelle responsible for photosynthesis in plants. This answer accurately recognizes the specific role of chloroplasts in the process of photosynthesis, which is a key function in plant cells. \",\n",
       " 'Question 4.1 Question: Define the term \"enzyme\" and explain its importance in biological reactions. (2 marks) Instructions to marker: Definition of Enzyme (1 mark): Award 1 mark for a correct definition of an enzyme as a biological catalyst that speeds up chemical reactions in living organisms without being consumed in the reaction. This part of the answer correctly captures the nature of enzymes as catalysts and their role in facilitating reactions without being used up. Explanation of Importance (1 mark): Award 1 mark for explaining the importance of enzymes, specifically stating that they allow metabolic processes to occur at rates fast enough to sustain life. This aspect of the answer correctly identifies the critical role enzymes play in ensuring the efficiency and viability of biological processes. ',\n",
       " 'Question 4.2 Question: What is DNA replication and why is it important? (2 marks) Instructions to marker: Definition of DNA Replication (1 mark): Award 1 mark for correctly defining DNA replication as the process by which DNA makes a copy of itself during cell division. This part of the answer accurately captures the essence of DNA replication, emphasizing its role in the duplication of genetic material. Explanation of Importance (1 mark): Award 1 mark for explaining the importance of DNA replication, specifically stating that it ensures each new cell has the same genetic information as the parent cell. This explanation highlights the critical role of DNA replication in maintaining genetic continuity and stability across cell generations, which is fundamental to growth, development, and inheritance. ',\n",
       " 'Question 4.3 Question: Name the four nitrogenous bases in DNA. (2 marks) Instructions to marker: Correct Naming of All Four Bases (2 marks): Award full 2 marks if the student correctly names all four nitrogenous bases in DNA: Adenine (A), Thymine (T), Cytosine (C), and Guanine (G). Each base should be correctly identified for the full marks. ',\n",
       " 'Question 4.4 Question: Explain the process of transcription. (2 marks) Instructions to marker: Basic Description of Transcription (1 mark): Award 1 mark for accurately describing transcription as the process by which a specific segment of DNA is used as a template to synthesize a complementary RNA molecule. This part of the answer correctly identifies the fundamental nature of transcription, emphasizing the role of DNA as a template for RNA synthesis. Role of RNA Polymerase and Complementary Base Pairing (1 mark): Award 1 mark for explaining the role of RNA polymerase in reading the DNA template and building the RNA molecule with complementary bases. This explanation provides key details about the mechanism of transcription, including the function of RNA polymerase and the base pairing rules that guide the synthesis of the RNA molecule.']"
      ]
     },
     "execution_count": 31,
     "metadata": {},
     "output_type": "execute_result"
    }
   ],
   "source": [
    "QA"
   ]
  },
  {
   "cell_type": "code",
   "execution_count": 157,
   "metadata": {},
   "outputs": [],
   "source": [
    "test_QA = ['Question 1.1 Question: Define the term \"cell.\" (1 mark) Instructions to marker: Accurate Definition (1 mark): Award the full mark if the student provides a correct and concise definition of a cell. An ideal answer should include the notion that a cell is the basic unit of life, forming the structural and functional unit of all living organisms. It may also be acceptable if a student describes it as the smallest unit that can perform all life processes. Additional details, such as mentioning that cells are enclosed by a membrane and contain cytoplasm and organelles, can enhance the answer but are not necessary for the single mark. ',\n",
    " 'Question 1.2 Question: List the main differences between plant cells and animal cells. (3 marks) Instructions to marker: Presence of Cell Wall (1 mark): Award 1 mark for correctly stating that plant cells have a cell wall, while animal cells do not. This point correctly identifies one of the fundamental structural differences between plant and animal cells. Presence of Chloroplasts (1 mark): Award 1 mark for the correct identification that plant cells contain chloroplasts, which are absent in animal cells. This point highlights a key difference related to the function of photosynthesis exclusive to plant cells. Presence of Lysosomes (1 mark): Award 1 mark for noting that animal cells often have lysosomes, which are rarely found in plant cells. This is a valid distinction, although it is more nuanced than the first two points, as lysosomes can occasionally be found in plant cells, but they are much more common and prominent in animal cells. ',\n",
    " 'Question 2.1 Question: What is the primary function of the mitochondria? (1 mark) Instructions to marker: Correct Identification of Function (1 mark): Award the full mark if the student accurately states that the primary function of mitochondria is to produce ATP (adenosine triphosphate) through cellular respiration, providing energy for the cell. This answer correctly identifies the key role of mitochondria as the powerhouse of the cell, generating the energy currency (ATP) essential for various cellular processes. ',\n",
    " 'Question 2.2 Question: Briefly explain the process of osmosis. (2 marks) Instructions to marker: Nature of Movement (1 mark): Award 1 mark for correctly identifying osmosis as the passive movement of water molecules. This point is crucial as it highlights the passive (i.e., not requiring energy) nature of osmosis and correctly identifies water as the moving molecule. Direction of Movement and Conditions (1 mark): Award 1 mark for accurately stating that this movement is from a region of lower solute concentration to a region of higher solute concentration, and that it occurs across a selectively permeable membrane. This part of the answer is essential as it describes the direction of osmosis in relation to solute concentration and notes the requirement of a selectively permeable membrane for osmosis to occur. ',\n",
    " \"Question 3. Question: Name three types of blood cells in humans and provide one function for each. (3 marks) Instructions to marker: Red Blood Cells (Erythrocytes) - Transport Oxygen (1 mark): Award 1 mark for correctly naming 'Red Blood Cells' or 'Erythrocytes' and accurately stating their function as transporting oxygen. This is a fundamental aspect of red blood cells and a key function in the circulatory system. White Blood Cells (Leukocytes) - Defend Against Pathogens (1 mark): Award 1 mark for correctly naming 'White Blood Cells' or 'Leukocytes' and identifying their role in defending the body against pathogens. This correctly highlights the immune function of white blood cells. Platelets (Thrombocytes) - Aid in Blood Clotting (1 mark): Award 1 mark for the correct identification of 'Platelets' or 'Thrombocytes' and stating their function in aiding blood clotting. This answer correctly associates platelets with their critical role in the clotting process, which is essential for preventing excessive bleeding. \",\n",
    " \"Question 3.2 Question: Which organelle is responsible for photosynthesis in plants? (1 mark) Instructions to marker: Correct Identification of Organelle (1 mark): Award the full mark if the student correctly identifies 'Chloroplasts' as the organelle responsible for photosynthesis in plants. This answer accurately recognizes the specific role of chloroplasts in the process of photosynthesis, which is a key function in plant cells. \",\n",
    " 'Question 4.1 Question: Define the term \"enzyme\" and explain its importance in biological reactions. (2 marks) Instructions to marker: Definition of Enzyme (1 mark): Award 1 mark for a correct definition of an enzyme as a biological catalyst that speeds up chemical reactions in living organisms without being consumed in the reaction. This part of the answer correctly captures the nature of enzymes as catalysts and their role in facilitating reactions without being used up. Explanation of Importance (1 mark): Award 1 mark for explaining the importance of enzymes, specifically stating that they allow metabolic processes to occur at rates fast enough to sustain life. This aspect of the answer correctly identifies the critical role enzymes play in ensuring the efficiency and viability of biological processes. ',\n",
    " 'Question 4.2 Question: What is DNA replication and why is it important? (2 marks) Instructions to marker: Definition of DNA Replication (1 mark): Award 1 mark for correctly defining DNA replication as the process by which DNA makes a copy of itself during cell division. This part of the answer accurately captures the essence of DNA replication, emphasizing its role in the duplication of genetic material. Explanation of Importance (1 mark): Award 1 mark for explaining the importance of DNA replication, specifically stating that it ensures each new cell has the same genetic information as the parent cell. This explanation highlights the critical role of DNA replication in maintaining genetic continuity and stability across cell generations, which is fundamental to growth, development, and inheritance. ',\n",
    " 'Question 4.3 Question: Name the four (2 marks) nitrogenous bases in DNA. (2 marks) Instructions to marker: Correct Naming of All Four Bases (2 marks): Award full 2 marks if the student correctly names all four nitrogenous bases in DNA: Adenine (A), Thymine (T), Cytosine (C), and Guanine (G). Each base should be correctly identified for the full marks. ',\n",
    " 'Question 4.4 Question: Explain the process of transcription. (2 marks) Instructions to marker: Basic Description of Transcription (1 mark): Award 1 mark for accurately describing transcription as the process by which a specific segment of DNA is used as a template to synthesize a complementary RNA molecule. This part of the answer correctly identifies the fundamental nature of transcription, emphasizing the role of DNA as a template for RNA synthesis. Role of RNA Polymerase and Complementary Base Pairing (1 mark): Award 1 mark for explaining the role of RNA polymerase in reading the DNA template and building the RNA molecule with complementary bases. This explanation provides key details about the mechanism of transcription, including the function of RNA polymerase and the base pairing rules that guide the synthesis of the RNA molecule.']"
   ]
  },
  {
   "cell_type": "code",
   "execution_count": 160,
   "metadata": {},
   "outputs": [
    {
     "name": "stdout",
     "output_type": "stream",
     "text": [
      "checking marks\n",
      "checking marks\n",
      "checking marks\n",
      "checking marks\n",
      "checking section\n",
      "checking marks\n",
      "checking marks\n",
      "checking marks\n",
      "checking marks\n",
      "checking marks\n"
     ]
    }
   ],
   "source": [
    "errors =[]\n",
    "q = None\n",
    "cur_que_no = None\n",
    "cur_section_no = None\n",
    "for i in test_QA:\n",
    "    # print(i)\n",
    "    if not re.search(r'Question \\d+\\.\\d+',i):\n",
    "        print(\"checking section\")\n",
    "        if q is not None:\n",
    "            errors.append(f\"There is a problem with Section and Question number after {q}\")\n",
    "        else:\n",
    "            errors.append(\"There is a problem with Section and Question number in first question\")\n",
    "    else:\n",
    "        q = re.findall(r'Question \\d+\\.\\d+',i)[0]\n",
    "        # print(q)\n",
    "        cur_section_no = q.split()[1].split('.')[0]\n",
    "        cur_que_no = section_no = q.split()[1].split('.')[1]\n",
    "        if not re.search(r'Question:',i):\n",
    "            print(\"checking Question\")\n",
    "            errors.append(f\"There is a problem with Question: in {q}, also please check spelling of question or : is missing\")\n",
    "        else:\n",
    "            if not re.search(r'Instructions to marker:',i):\n",
    "                print('checking Instruction')\n",
    "                errors.append(f\"There is a problem with Instructions to marker: in {q}, also please check spelling of Instructions to marker:\")\n",
    "            else:\n",
    "                print(\"checking marks\")\n",
    "                check_marks_string = fetch_substring(i,'Question:','Instructions to marker:')\n",
    "                # print(check_marks_string)\n",
    "                if not re.search(r'.*\\(\\d+ mark(s)?\\)$',check_marks_string):\n",
    "                    errors.append(f\"There is a problem with Marks in {q}, also please check spelling of Marks or check if ( or ) is missing.\")\n",
    "                "
   ]
  },
  {
   "cell_type": "code",
   "execution_count": 161,
   "metadata": {},
   "outputs": [
    {
     "data": {
      "text/plain": [
       "['There is a problem with Section and Question number after Question 2.2']"
      ]
     },
     "execution_count": 161,
     "metadata": {},
     "output_type": "execute_result"
    }
   ],
   "source": [
    "errors"
   ]
  },
  {
   "cell_type": "markdown",
   "metadata": {},
   "source": [
    "#### PDF Structure Evaluation for Student"
   ]
  },
  {
   "cell_type": "code",
   "execution_count": 140,
   "metadata": {},
   "outputs": [],
   "source": [
    "with open(r'C:\\Users\\Albiorix Technology\\Desktop\\Ronak\\Projects\\QA_Assesment\\Test Attempt student.pdf','rb') as pdf:\n",
    "    reader = PdfReader(pdf)\n",
    "    results = []\n",
    "    for i in range(len(reader.pages)):\n",
    "        page = reader.pages[i]\n",
    "        text = page.extract_text()\n",
    "        results.append(text)\n",
    "    result = ' '.join(results)\n",
    "    result = result.replace('\\n', ' ')\n",
    "\n",
    "QA = re.split(r'Question \\d+\\.\\d+', result)[1:]\n",
    "sections = re.findall(r'Question \\d+\\.\\d+', result)\n",
    "\n",
    "for i in range(len(QA)):\n",
    "    QA[i] = sections[i] +QA[i]"
   ]
  },
  {
   "cell_type": "code",
   "execution_count": 141,
   "metadata": {},
   "outputs": [
    {
     "data": {
      "text/plain": [
       "['Question 1.1 Question: Define the term \"cell.\" (1 mark) Answer: The cell is the basic structural, functional, and biological unit of all known living organisms. ',\n",
       " 'Question 1.2 Question: List the main differences between plant cells and animal cells. (3 marks) Answer: Plant cells have a cell wall, while animal cells do not. Plant cells contain chloroplasts, which are absent in animal cells. Animal cells often have lysosomes which are rarely found in plant cells. ',\n",
       " 'Question 2.1 Question: What is the primary function of the mitochondria? (1 mark) Answer: The primary function of the mitochondria is to produce ATP through cellular respiration, providing energy for the cell. ',\n",
       " 'Question 2.2 Question: Briefly explain the process of osmosis. (2 marks) Answer: Osmosis is the passive movement of water molecules from a region of lower solute concentration to a region of higher solute concentration across a selectively permeable membrane. ',\n",
       " 'Question 3.1 Question: Name three types of blood cells in humans and provide one function for each. (3 marks) Answer: Red Blood Cells (Erythrocytes) - Transport oxygen. White Blood Cells (Leukocytes) - Defend the body against pathogens. Platelets (Thrombocytes) - Aid in blood clotting. ',\n",
       " 'Question 3.2 Question: Which organelle is responsible for photosynthesis in plants? (1 mark) Answer: Chloroplasts are responsible for photosynthesis in plants. ',\n",
       " 'Question 4.1 Question: Define the term \"enzyme\" and explain its importance in biological reactions. (2 marks) Answer: An enzyme is a biological catalyst that speeds up chemical reactions in living organisms without being consumed in the reaction. It\\'s important because it allows metabolic processes to occur at rates fast enough to sustain life. ',\n",
       " \"Question 4.2 Question: What is DNA replication and why is it important? (2 marks) Answer: DNA replication is the process by which DNA makes a copy of itself during cell division. It's important because it ensures that each new cell has the same genetic information as the parent cell. \",\n",
       " 'Question 4.3 Question: Name the four nitrogenous bases in DNA. (2 marks) Answer: The four nitrogenous bases in DNA are Adenine (A), Thymine (T), Cytosine (C), and Guanine (G). ',\n",
       " 'Question 4.4 Question: Explain the process of transcription. (2 marks) Answer: Transcription is the process by which a specific segment of DNA is used as a template to synthesize a complementary RNA molecule. During this process, RNA polymerase reads the DNA template and builds the RNA molecule with complementary bases.']"
      ]
     },
     "execution_count": 141,
     "metadata": {},
     "output_type": "execute_result"
    }
   ],
   "source": [
    "QA"
   ]
  },
  {
   "cell_type": "code",
   "execution_count": 147,
   "metadata": {},
   "outputs": [],
   "source": [
    "test_QA = ['Question 1. Question: Define the term \"cell.\" (1 mark) Answer: The cell is the basic structural, functional, and biological unit of all known living organisms. ',\n",
    " 'Question 1.2 Question: List the main differences between plant cells and animal cells. (3 marks) Answer: Plant cells have a cell wall, while animal cells do not. Plant cells contain chloroplasts, which are absent in animal cells. Animal cells often have lysosomes which are rarely found in plant cells. ',\n",
    " 'Question 2.1 Question: What is the primary function of the mitochondria? (1 mark) Answer: The primary function of the mitochondria is to produce ATP through cellular respiration, providing energy for the cell. ',\n",
    " 'Question 2.2 Question: Briefly explain the process of osmosis. (2 marks) Answer: Osmosis is the passive movement of water molecules from a region of lower solute concentration to a region of higher solute concentration across a selectively permeable membrane. ',\n",
    " 'Question 3.1 Question: Name three types of blood cells in humans and provide one function for each. (3 marks) Answer: Red Blood Cells (Erythrocytes) - Transport oxygen. White Blood Cells (Leukocytes) - Defend the body against pathogens. Platelets (Thrombocytes) - Aid in blood clotting. ',\n",
    " 'Question 3.2 Question: Which organelle is responsible for photosynthesis in plants? (1 mark) Answer: Chloroplasts are responsible for photosynthesis in plants. ',\n",
    " 'Question 4.1 Question: Define the term \"enzyme\" and explain its importance in biological reactions. (2 marks) Answer: An enzyme is a biological catalyst that speeds up chemical reactions in living organisms without being consumed in the reaction. It\\'s important because it allows metabolic processes to occur at rates fast enough to sustain life. ',\n",
    " \"Question 4.2 Question: What is DNA replication and why is it important? (2 marks) Answer: DNA replication is the process by which DNA makes a copy of itself during cell division. It's important because it ensures that each new cell has the same genetic information as the parent cell. \",\n",
    " 'Question 4.3 Question: Name the four nitrogenous bases in DNA. (2 marks) Answer: The four nitrogenous bases in DNA are Adenine (A), Thymine (T), Cytosine (C), and Guanine (G). ',\n",
    " 'Question 4.4 Question: Explain the process of transcription. (2 marks) Answer: Transcription is the process by which a specific segment of DNA is used as a template to synthesize a complementary RNA molecule. During this process, RNA polymerase reads the DNA template and builds the RNA molecule with complementary bases.']"
   ]
  },
  {
   "cell_type": "code",
   "execution_count": 148,
   "metadata": {},
   "outputs": [
    {
     "name": "stdout",
     "output_type": "stream",
     "text": [
      "checking section\n",
      "checking marks\n",
      "checking marks\n",
      "checking marks\n",
      "checking marks\n",
      "checking marks\n",
      "checking marks\n",
      "checking marks\n",
      "checking marks\n",
      "checking marks\n"
     ]
    }
   ],
   "source": [
    "errors =[]\n",
    "for i in test_QA:\n",
    "    # print(i)\n",
    "    if not re.search(r'Question \\d+\\.\\d+',i):\n",
    "        print(\"checking section\")\n",
    "        errors.append(\"Some of questions missing Section and Question number e.g Question 1.1 or check spelling...\")\n",
    "    else:\n",
    "        q = re.findall(r'Question \\d+\\.\\d+',i)[0]\n",
    "        # print(q)\n",
    "        section_no = q.split()[1].split('.')[0]\n",
    "        que_no = section_no = q.split()[1].split('.')[1]\n",
    "        if not re.search(r'Question:',i):\n",
    "            print(\"checking Question\")\n",
    "            errors.append(f\"There is a problem with Question: in {q}, also please check spelling of question or : is missing\")\n",
    "        else:\n",
    "            if not re.search(r'Answer:',i):\n",
    "                print('checking Instruction')\n",
    "                errors.append(f\"There is a problem with Instructions to marker: in {q}, also please check spelling of Instructions to marker:\")\n",
    "            else:\n",
    "                print(\"checking marks\")\n",
    "                check_marks_string = fetch_substring(i,'Question:','Answer:')\n",
    "                # print(check_marks_string)\n",
    "                if not re.search(r'.*\\(\\d+ mark(s)?\\)$',check_marks_string):\n",
    "                    errors.append(f\"There is a problem with Marks in {q}, also please check spelling of Marks or check if ( or ) is missing.\")\n",
    "                "
   ]
  },
  {
   "cell_type": "code",
   "execution_count": 149,
   "metadata": {},
   "outputs": [
    {
     "data": {
      "text/plain": [
       "['Some of questions missing Section and Question number e.g Question 1.1 or check spelling...']"
      ]
     },
     "execution_count": 149,
     "metadata": {},
     "output_type": "execute_result"
    }
   ],
   "source": [
    "errors"
   ]
  },
  {
   "cell_type": "code",
   "execution_count": null,
   "metadata": {},
   "outputs": [],
   "source": []
  }
 ],
 "metadata": {
  "kernelspec": {
   "display_name": "env",
   "language": "python",
   "name": "python3"
  },
  "language_info": {
   "codemirror_mode": {
    "name": "ipython",
    "version": 3
   },
   "file_extension": ".py",
   "mimetype": "text/x-python",
   "name": "python",
   "nbconvert_exporter": "python",
   "pygments_lexer": "ipython3",
   "version": "3.9.0"
  }
 },
 "nbformat": 4,
 "nbformat_minor": 2
}
