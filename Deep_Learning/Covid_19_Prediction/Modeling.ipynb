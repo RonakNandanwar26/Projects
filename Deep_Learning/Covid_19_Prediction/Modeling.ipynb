{
 "cells": [
  {
   "cell_type": "code",
   "execution_count": 30,
   "id": "d34e56e0",
   "metadata": {},
   "outputs": [],
   "source": [
    "import numpy as np\n",
    "import seaborn as sns\n",
    "\n",
    "from sklearn.metrics import confusion_matrix\n",
    "\n",
    "import tensorflow as tf\n",
    "from tensorflow.keras.layers import Conv2D,Dense,Dropout,MaxPool2D,Flatten\n",
    "from tensorflow.keras.preprocessing import image\n",
    "from tensorflow.keras.models import Sequential,load_model\n"
   ]
  },
  {
   "cell_type": "code",
   "execution_count": 20,
   "id": "f678cee4",
   "metadata": {},
   "outputs": [],
   "source": [
    "# training data generator\n",
    "\n",
    "training_datagen = image.ImageDataGenerator(\n",
    "    rescale = 1./255,\n",
    "    shear_range=0.2,\n",
    "    zoom_range=0.2,\n",
    "    horizontal_flip=True\n",
    ")\n",
    "\n",
    "test_datagen = image.ImageDataGenerator(\n",
    "    rescale = 1./255,\n",
    "    shear_range=0.2,\n",
    "    zoom_range=0.2,\n",
    "    horizontal_flip=True\n",
    ")"
   ]
  },
  {
   "cell_type": "code",
   "execution_count": 21,
   "id": "cfc23dcd",
   "metadata": {},
   "outputs": [
    {
     "name": "stdout",
     "output_type": "stream",
     "text": [
      "Found 312 images belonging to 2 classes.\n",
      "Found 80 images belonging to 2 classes.\n"
     ]
    }
   ],
   "source": [
    "train_generator = training_datagen.flow_from_directory(\n",
    "    'Dataset/Train/',\n",
    "    target_size=(224,224), # most common size, Imagenet is also trained on this size\n",
    "    batch_size=32,\n",
    "    class_mode='binary' # 'categorical in case of multiclass classification'\n",
    "    )\n",
    "\n",
    "test_generator = test_datagen.flow_from_directory(\n",
    "    'Dataset/Test/',\n",
    "    target_size=(224,224), # most common size, Imagenet is also trained on this size\n",
    "    batch_size=32,\n",
    "    class_mode='binary' # 'categorical in case of multiclass classification'\n",
    "    )"
   ]
  },
  {
   "cell_type": "code",
   "execution_count": 16,
   "id": "12053538",
   "metadata": {},
   "outputs": [
    {
     "data": {
      "text/plain": [
       "({'Covid': 0, 'Normal': 1}, {'Covid': 0, 'Normal': 1})"
      ]
     },
     "execution_count": 16,
     "metadata": {},
     "output_type": "execute_result"
    }
   ],
   "source": [
    "train_generator.class_indices,test_generator.class_indices"
   ]
  },
  {
   "cell_type": "code",
   "execution_count": 10,
   "id": "0bae0fce",
   "metadata": {},
   "outputs": [],
   "source": [
    "model = Sequential()\n",
    "\n",
    "model.add(Conv2D(32,kernel_size=(3,3),activation='relu',input_shape=(224,224,3)))\n",
    "model.add(Conv2D(64,(3,3),activation='relu'))\n",
    "model.add(MaxPool2D(pool_size=(2,2)))\n",
    "model.add(Dropout(0.3))\n",
    "\n",
    "model.add(Conv2D(64,(3,3),activation='relu'))\n",
    "model.add(MaxPool2D((2,2)))\n",
    "model.add(Dropout(0.3))\n",
    "\n",
    "model.add(Conv2D(128,(3,3),activation='relu'))\n",
    "model.add(MaxPool2D((2,2)))\n",
    "model.add(Dropout(0.3))\n",
    "\n",
    "model.add(Flatten())\n",
    "model.add(Dense(64,activation='relu'))\n",
    "model.add(Dropout(0.5))\n",
    "model.add(Dense(1,activation='sigmoid'))"
   ]
  },
  {
   "cell_type": "code",
   "execution_count": 11,
   "id": "02785c57",
   "metadata": {},
   "outputs": [
    {
     "name": "stdout",
     "output_type": "stream",
     "text": [
      "Model: \"sequential_2\"\n",
      "_________________________________________________________________\n",
      " Layer (type)                Output Shape              Param #   \n",
      "=================================================================\n",
      " conv2d_5 (Conv2D)           (None, 222, 222, 32)      896       \n",
      "                                                                 \n",
      " conv2d_6 (Conv2D)           (None, 220, 220, 64)      18496     \n",
      "                                                                 \n",
      " max_pooling2d_1 (MaxPoolin  (None, 110, 110, 64)      0         \n",
      " g2D)                                                            \n",
      "                                                                 \n",
      " dropout_1 (Dropout)         (None, 110, 110, 64)      0         \n",
      "                                                                 \n",
      " conv2d_7 (Conv2D)           (None, 108, 108, 64)      36928     \n",
      "                                                                 \n",
      " max_pooling2d_2 (MaxPoolin  (None, 54, 54, 64)        0         \n",
      " g2D)                                                            \n",
      "                                                                 \n",
      " dropout_2 (Dropout)         (None, 54, 54, 64)        0         \n",
      "                                                                 \n",
      " conv2d_8 (Conv2D)           (None, 52, 52, 128)       73856     \n",
      "                                                                 \n",
      " max_pooling2d_3 (MaxPoolin  (None, 26, 26, 128)       0         \n",
      " g2D)                                                            \n",
      "                                                                 \n",
      " dropout_3 (Dropout)         (None, 26, 26, 128)       0         \n",
      "                                                                 \n",
      " flatten (Flatten)           (None, 86528)             0         \n",
      "                                                                 \n",
      " dense (Dense)               (None, 64)                5537856   \n",
      "                                                                 \n",
      " dropout_4 (Dropout)         (None, 64)                0         \n",
      "                                                                 \n",
      " dense_1 (Dense)             (None, 1)                 65        \n",
      "                                                                 \n",
      "=================================================================\n",
      "Total params: 5668097 (21.62 MB)\n",
      "Trainable params: 5668097 (21.62 MB)\n",
      "Non-trainable params: 0 (0.00 Byte)\n",
      "_________________________________________________________________\n"
     ]
    }
   ],
   "source": [
    "model.summary()"
   ]
  },
  {
   "cell_type": "code",
   "execution_count": 12,
   "id": "ef93518e",
   "metadata": {},
   "outputs": [],
   "source": [
    "model.compile(optimizer='adam',loss='binary_crossentropy',metrics=['accuracy'])"
   ]
  },
  {
   "cell_type": "code",
   "execution_count": null,
   "id": "20b1afcf",
   "metadata": {},
   "outputs": [],
   "source": []
  },
  {
   "cell_type": "code",
   "execution_count": 17,
   "id": "30eac619",
   "metadata": {},
   "outputs": [
    {
     "name": "stderr",
     "output_type": "stream",
     "text": [
      "/var/folders/d2/7h83324x0yb6w3t360z7mq440000gn/T/ipykernel_11333/2169322337.py:1: UserWarning: `Model.fit_generator` is deprecated and will be removed in a future version. Please use `Model.fit`, which supports generators.\n",
      "  history = model.fit_generator(train_generator,steps_per_epoch=8,epochs=10,validation_data=test_generator,validation_steps=2)\n"
     ]
    },
    {
     "name": "stdout",
     "output_type": "stream",
     "text": [
      "Epoch 1/10\n",
      "8/8 [==============================] - 18s 2s/step - loss: 1.5936 - accuracy: 0.5565 - val_loss: 0.6913 - val_accuracy: 0.5156\n",
      "Epoch 2/10\n",
      "8/8 [==============================] - 17s 2s/step - loss: 0.6736 - accuracy: 0.6129 - val_loss: 0.6684 - val_accuracy: 0.6562\n",
      "Epoch 3/10\n",
      "8/8 [==============================] - 17s 2s/step - loss: 0.5636 - accuracy: 0.7177 - val_loss: 0.4269 - val_accuracy: 0.9375\n",
      "Epoch 4/10\n",
      "8/8 [==============================] - 18s 2s/step - loss: 0.4659 - accuracy: 0.8047 - val_loss: 0.4178 - val_accuracy: 0.9531\n",
      "Epoch 5/10\n",
      "8/8 [==============================] - 18s 2s/step - loss: 0.3301 - accuracy: 0.8672 - val_loss: 0.2183 - val_accuracy: 0.9375\n",
      "Epoch 6/10\n",
      "8/8 [==============================] - 18s 2s/step - loss: 0.3242 - accuracy: 0.9073 - val_loss: 0.3216 - val_accuracy: 0.8750\n",
      "Epoch 7/10\n",
      "8/8 [==============================] - 17s 2s/step - loss: 0.2007 - accuracy: 0.9113 - val_loss: 0.1435 - val_accuracy: 0.9688\n",
      "Epoch 8/10\n",
      "8/8 [==============================] - 18s 2s/step - loss: 0.2558 - accuracy: 0.9153 - val_loss: 0.1860 - val_accuracy: 0.9531\n",
      "Epoch 9/10\n",
      "8/8 [==============================] - 18s 2s/step - loss: 0.1899 - accuracy: 0.9297 - val_loss: 0.1336 - val_accuracy: 0.9844\n",
      "Epoch 10/10\n",
      "8/8 [==============================] - 18s 2s/step - loss: 0.2239 - accuracy: 0.9395 - val_loss: 0.1479 - val_accuracy: 0.9844\n"
     ]
    }
   ],
   "source": [
    "history = model.fit_generator(train_generator,steps_per_epoch=8,epochs=10,validation_data=test_generator,validation_steps=2)"
   ]
  },
  {
   "cell_type": "code",
   "execution_count": 18,
   "id": "f0633b73",
   "metadata": {},
   "outputs": [
    {
     "name": "stderr",
     "output_type": "stream",
     "text": [
      "/usr/local/lib/python3.11/site-packages/keras/src/engine/training.py:3079: UserWarning: You are saving your model as an HDF5 file via `model.save()`. This file format is considered legacy. We recommend using instead the native Keras format, e.g. `model.save('my_model.keras')`.\n",
      "  saving_api.save_model(\n"
     ]
    }
   ],
   "source": [
    "model.save('covid_19.h5')"
   ]
  },
  {
   "cell_type": "code",
   "execution_count": 23,
   "id": "4ea66c0a",
   "metadata": {},
   "outputs": [
    {
     "name": "stdout",
     "output_type": "stream",
     "text": [
      "3/3 [==============================] - 2s 613ms/step - loss: 0.1231 - accuracy: 0.9875\n"
     ]
    }
   ],
   "source": [
    "loss,accuracy = model.evaluate(test_generator)"
   ]
  },
  {
   "cell_type": "code",
   "execution_count": 14,
   "id": "a302b2b8",
   "metadata": {},
   "outputs": [
    {
     "name": "stdout",
     "output_type": "stream",
     "text": [
      "1/1 [==============================] - 0s 67ms/step\n"
     ]
    }
   ],
   "source": [
    "# testing model\n",
    "model = load_model('covid_19.h5')\n",
    "image_path = 'unseen_test/Covid_positive/1-s2.0-S0929664620300449-gr2_lrg-a.jpg'\n",
    "img = image.load_img(image_path,target_size=(224,224)) # loading and resizing image\n",
    "img = image.img_to_array(img)  # converting image to array\n",
    "img = np.expand_dims(img,axis=0) # expanding dimensions of array\n",
    "img = img/255\n",
    "y_pred_normal = mod\n",
    "y_pred = model.predict(img)"
   ]
  },
  {
   "cell_type": "code",
   "execution_count": 17,
   "id": "f3fd6210",
   "metadata": {},
   "outputs": [
    {
     "data": {
      "text/plain": [
       "array([[0]])"
      ]
     },
     "execution_count": 17,
     "metadata": {},
     "output_type": "execute_result"
    }
   ],
   "source": [
    "np.where(y_pred>0.5,1,0)  # covid positive -> {'Covid': 0, 'Normal': 1} -> model working well"
   ]
  },
  {
   "cell_type": "code",
   "execution_count": 33,
   "id": "f47cfc5e",
   "metadata": {},
   "outputs": [
    {
     "name": "stdout",
     "output_type": "stream",
     "text": [
      "WARNING:tensorflow:6 out of the last 6 calls to <function Model.make_predict_function.<locals>.predict_function at 0x145b04040> triggered tf.function retracing. Tracing is expensive and the excessive number of tracings could be due to (1) creating @tf.function repeatedly in a loop, (2) passing tensors with different shapes, (3) passing Python objects instead of tensors. For (1), please define your @tf.function outside of the loop. For (2), @tf.function has reduce_retracing=True option that can avoid unnecessary retracing. For (3), please refer to https://www.tensorflow.org/guide/function#controlling_retracing and https://www.tensorflow.org/api_docs/python/tf/function for  more details.\n",
      "1/1 [==============================] - 0s 69ms/step\n"
     ]
    }
   ],
   "source": [
    "# test for normal x ray\n",
    "model = load_model('covid_19.h5')\n",
    "image_path = 'unseen_test/Normal/IM-0019-0001.jpeg'\n",
    "img = image.load_img(image_path,target_size=(224,224)) # loading and resizing image\n",
    "img = image.img_to_array(img)  # converting image to array\n",
    "img = np.expand_dims(img,axis=0) # expanding dimensions of array\n",
    "img = img/255\n",
    "y_pred_normal = model.predict(img)"
   ]
  },
  {
   "cell_type": "code",
   "execution_count": 35,
   "id": "b98e0d7f",
   "metadata": {},
   "outputs": [
    {
     "data": {
      "text/plain": [
       "array([[1]])"
      ]
     },
     "execution_count": 35,
     "metadata": {},
     "output_type": "execute_result"
    }
   ],
   "source": [
    "np.where(y_pred_normal>0.5,1,0) # Normal -> {'Covid': 0, 'Normal': 1} -> model working well"
   ]
  },
  {
   "cell_type": "code",
   "execution_count": null,
   "id": "10b118e2",
   "metadata": {},
   "outputs": [],
   "source": []
  }
 ],
 "metadata": {
  "kernelspec": {
   "display_name": "Python 3 (ipykernel)",
   "language": "python",
   "name": "python3"
  },
  "language_info": {
   "codemirror_mode": {
    "name": "ipython",
    "version": 3
   },
   "file_extension": ".py",
   "mimetype": "text/x-python",
   "name": "python",
   "nbconvert_exporter": "python",
   "pygments_lexer": "ipython3",
   "version": "3.11.4"
  }
 },
 "nbformat": 4,
 "nbformat_minor": 5
}
